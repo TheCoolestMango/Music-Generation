{
  "nbformat": 4,
  "nbformat_minor": 0,
  "metadata": {
    "colab": {
      "provenance": [],
      "collapsed_sections": []
    },
    "kernelspec": {
      "name": "python3",
      "display_name": "Python 3"
    },
    "language_info": {
      "name": "python"
    }
  },
  "cells": [
    {
      "cell_type": "code",
      "execution_count": 3,
      "metadata": {
        "colab": {
          "base_uri": "https://localhost:8080/"
        },
        "id": "IBXiaCmyYLkH",
        "outputId": "e702b900-1e7c-4df7-c88e-a186bbc59cf3"
      },
      "outputs": [
        {
          "output_type": "stream",
          "name": "stdout",
          "text": [
            "Mounted at /content/drive\n"
          ]
        }
      ],
      "source": [
        "from google.colab import drive\n",
        "drive.mount('/content/drive', force_remount=True)"
      ]
    },
    {
      "cell_type": "code",
      "source": [
        "from tensorflow import keras\n",
        "from tensorflow.keras import backend as K\n",
        "\n",
        "model = keras.models.load_model('/content/drive/MyDrive/DL/Project/Model')"
      ],
      "metadata": {
        "id": "yMI07YqKYNQ4"
      },
      "execution_count": 5,
      "outputs": []
    },
    {
      "cell_type": "code",
      "source": [
        "import json\n",
        "\n",
        "def load_data(json_path):\n",
        "  with open(json_path, \"r\") as fp:\n",
        "        data = json.load(fp)\n",
        "\n",
        "  X = (data['mfcc'])\n",
        "  y = (data['labels'])\n",
        "  return X, y\n",
        "\n",
        "json_path = '/content/drive/MyDrive/DL/Project/Data/preprocess/mel_specs.json'\n",
        "orig_x_data, orig_y_data = load_data(json_path)"
      ],
      "metadata": {
        "id": "jymj48V_YehZ"
      },
      "execution_count": 6,
      "outputs": []
    },
    {
      "cell_type": "code",
      "source": [
        "import numpy as np\n",
        "import sys\n",
        "\n",
        "x_data, y_data = [], []\n",
        "for i in range(len(orig_x_data)):\n",
        "  x_d = orig_x_data[i]\n",
        "  for j in range(len(x_d)):\n",
        "    x_data.append([x_d[j][0][0], np.array(x_d[j][1]).T])\n",
        "    y_data.append(orig_y_data[i])\n",
        "X = x_data\n",
        "y = np.array(y_data)"
      ],
      "metadata": {
        "id": "Sdo8uafJaIpq"
      },
      "execution_count": 7,
      "outputs": []
    },
    {
      "cell_type": "code",
      "source": [
        "def create_pairs(plots, labels):\n",
        "  pair_plots, pair_labels, pair_names = [], [], []\n",
        "  num_labels = len(np.unique(labels))\n",
        "  \n",
        "  indices = [np.where(labels == i)[0] for i in range(num_labels)]\n",
        "  \n",
        "  for idx1 in range(len(plots)):\n",
        "    name1 = plots[idx1][0]\n",
        "    plot1 = plots[idx1][1]\n",
        "    label1 = labels[idx1]\n",
        "\n",
        "    idx2 = np.random.choice(indices[label1])\n",
        "    name2 = plots[idx2][0]\n",
        "    plot2 = plots[idx2][1]\n",
        "\n",
        "    pair_plots.append([plot1, plot2])\n",
        "    pair_labels.append([1])\n",
        "    pair_names.append([name1, name2])\n",
        "\n",
        "    idx3 = np.where(labels != label1)[0]\n",
        "    rand_idx3 = np.random.choice(idx3)\n",
        "    name3 = plots[rand_idx3][0]\n",
        "    plot3 = plots[rand_idx3][1]\n",
        "\n",
        "    pair_plots.append([plot1, plot3])\n",
        "    pair_labels.append([0])\n",
        "    pair_names.append([name1, name3])\n",
        "  return np.array(pair_plots), pair_names\n",
        "\n",
        "mfcc_pairs, song_names = create_pairs(X, y)"
      ],
      "metadata": {
        "id": "jpAxjZFqaK-q"
      },
      "execution_count": 8,
      "outputs": []
    },
    {
      "cell_type": "code",
      "source": [
        "song_diff = model.predict([mfcc_pairs[:,0], mfcc_pairs[:,1]])"
      ],
      "metadata": {
        "colab": {
          "base_uri": "https://localhost:8080/"
        },
        "id": "FtwlDEkQaZyS",
        "outputId": "89369f25-497d-49bf-b607-e2a4329e9654"
      },
      "execution_count": 12,
      "outputs": [
        {
          "output_type": "stream",
          "name": "stdout",
          "text": [
            "625/625 [==============================] - 10s 15ms/step\n"
          ]
        }
      ]
    },
    {
      "cell_type": "code",
      "source": [
        "def recommendation_list(song_name, song_diff, song_names, num_songs=10):\n",
        "  fav_song = song_name\n",
        "  fav_pairs = [[np.array([0]), [fav_song, fav_song]]]\n",
        "  for i in range(len(song_names)):\n",
        "    if (fav_song == song_names[i][0]) ^ (fav_song == song_names[i][1]):\n",
        "      fav_pairs.append([song_diff[i], song_names[i]])\n",
        "  fav_pairs = sorted(fav_pairs, key=lambda l:l[0])\n",
        "  recommended_list = [pair[1][0] if pair[1][0] != fav_song else pair[1][1] for pair in fav_pairs[:num_songs]]\n",
        "  return recommended_list"
      ],
      "metadata": {
        "id": "SuLJ2JyraodN"
      },
      "execution_count": 10,
      "outputs": []
    },
    {
      "cell_type": "code",
      "source": [
        "recommendation_list('jazz.00024.wav', song_diff, song_names)"
      ],
      "metadata": {
        "colab": {
          "base_uri": "https://localhost:8080/"
        },
        "id": "1_QbF_n2bBFw",
        "outputId": "b85a5586-0fa4-49f7-daee-93ad94ff6ecf"
      },
      "execution_count": 27,
      "outputs": [
        {
          "output_type": "execute_result",
          "data": {
            "text/plain": [
              "['jazz.00024.wav',\n",
              " 'jazz.00013.wav',\n",
              " 'jazz.00007.wav',\n",
              " 'classical.00023.wav',\n",
              " 'jazz.00090.wav',\n",
              " 'country.00064.wav',\n",
              " 'jazz.00033.wav',\n",
              " 'jazz.00057.wav',\n",
              " 'jazz.00037.wav',\n",
              " 'rock.00078.wav']"
            ]
          },
          "metadata": {},
          "execution_count": 27
        }
      ]
    }
  ]
}